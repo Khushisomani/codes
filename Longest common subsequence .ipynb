{
 "cells": [
  {
   "cell_type": "code",
   "execution_count": 2,
   "metadata": {},
   "outputs": [
    {
     "name": "stdout",
     "output_type": "stream",
     "text": [
      "abcde\n",
      "aecdb\n"
     ]
    }
   ],
   "source": [
    "s=input()\n",
    "t=input()"
   ]
  },
  {
   "cell_type": "code",
   "execution_count": 7,
   "metadata": {},
   "outputs": [],
   "source": [
    "l=[[0 for x in range(6)] for x in range(6)] "
   ]
  },
  {
   "cell_type": "code",
   "execution_count": 11,
   "metadata": {},
   "outputs": [
    {
     "name": "stdout",
     "output_type": "stream",
     "text": [
      "3\n",
      "[[3, 2, 2, 1, 1, 0], [2, 2, 2, 1, 1, 0], [2, 2, 2, 1, 0, 0], [1, 1, 1, 1, 0, 0], [1, 1, 0, 0, 0, 0], [0, 0, 0, 0, 0, 0]]\n"
     ]
    }
   ],
   "source": [
    "for j in range(len(t)):\n",
    "    l[len(s)][j]=0\n",
    "for i in range(len(s)-1,-1,-1):\n",
    "    l[i][len(t)]=0\n",
    "    for j in range(len(t)-1,-1,-1):\n",
    "        if s[i]==t[j]:\n",
    "            l[i][j]=1+l[i+1][j+1]\n",
    "        else:\n",
    "            l[i][j]=max(l[i+1][j],l[i][j+1])\n",
    "print(l[0][0])\n",
    "print(l)"
   ]
  },
  {
   "cell_type": "code",
   "execution_count": null,
   "metadata": {},
   "outputs": [],
   "source": []
  }
 ],
 "metadata": {
  "kernelspec": {
   "display_name": "Python 3",
   "language": "python",
   "name": "python3"
  },
  "language_info": {
   "codemirror_mode": {
    "name": "ipython",
    "version": 3
   },
   "file_extension": ".py",
   "mimetype": "text/x-python",
   "name": "python",
   "nbconvert_exporter": "python",
   "pygments_lexer": "ipython3",
   "version": "3.8.3"
  }
 },
 "nbformat": 4,
 "nbformat_minor": 4
}
