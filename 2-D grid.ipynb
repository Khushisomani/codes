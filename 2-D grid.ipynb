{
 "cells": [
  {
   "cell_type": "code",
   "execution_count": 1,
   "metadata": {},
   "outputs": [
    {
     "name": "stdout",
     "output_type": "stream",
     "text": [
      "3\n",
      "3\n"
     ]
    }
   ],
   "source": [
    "n=int(input())\n",
    "m=int(input())\n",
    "dp=[]\n",
    "a=[]"
   ]
  },
  {
   "cell_type": "code",
   "execution_count": 2,
   "metadata": {},
   "outputs": [
    {
     "name": "stdout",
     "output_type": "stream",
     "text": [
      "0 \n",
      "10\n",
      "1\n",
      "-10\n",
      "2\n",
      "2\n",
      "25\n",
      "2\n",
      "0\n",
      "[[0, 10, 1], [-10, 2, 2], [25, 2, 0]]\n",
      "[[0, 0, 0], [0, 0, 0], [0, 0, 0]]\n"
     ]
    }
   ],
   "source": [
    "for i in range(n):\n",
    "    k=[]\n",
    "    b=[]\n",
    "    for j in range(m):\n",
    "        b.append(int(input()))\n",
    "        k.append(0)\n",
    "    a.append(b)\n",
    "    dp.append(k)\n",
    "print(a)\n",
    "print(dp)"
   ]
  },
  {
   "cell_type": "code",
   "execution_count": 11,
   "metadata": {},
   "outputs": [
    {
     "name": "stdout",
     "output_type": "stream",
     "text": [
      "17\n"
     ]
    }
   ],
   "source": [
    "dp[n-1][m-1]=a[n-1][m-1]\n",
    "for j in range(m-2,-1,-1):\n",
    "    dp[n-1][j]=a[n-1][j]+dp[n-1][j+1]\n",
    "for i in range(n-1):\n",
    "    if i!=n:\n",
    "        dp[i][m-1]=a[i][m-1]+dp[i+1][m-1]\n",
    "    else:\n",
    "        dp[n-1][m-1]=a[n-1][m-1]   \n",
    "for i in range(n-2,-1,-1):\n",
    "    for j in range(m-2,-1,-1):\n",
    "        dp[i][j]=a[i][j]+max(dp[i+1][j],dp[j][i+1])\n",
    "print(dp[0][0])"
   ]
  },
  {
   "cell_type": "code",
   "execution_count": null,
   "metadata": {},
   "outputs": [],
   "source": []
  }
 ],
 "metadata": {
  "kernelspec": {
   "display_name": "Python 3",
   "language": "python",
   "name": "python3"
  },
  "language_info": {
   "codemirror_mode": {
    "name": "ipython",
    "version": 3
   },
   "file_extension": ".py",
   "mimetype": "text/x-python",
   "name": "python",
   "nbconvert_exporter": "python",
   "pygments_lexer": "ipython3",
   "version": "3.8.3"
  }
 },
 "nbformat": 4,
 "nbformat_minor": 4
}
