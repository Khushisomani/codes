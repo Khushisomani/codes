{
 "cells": [
  {
   "cell_type": "code",
   "execution_count": null,
   "metadata": {},
   "outputs": [],
   "source": [
    "class Solution:\n",
    "    def lengthOfLongestSubstring(self, s: str) -> int:\n",
    "        seen = {} \n",
    "        maximum_length = 0\n",
    "        start = 0 {\n",
    " \"cells\": [\n",
    "  {\n",
    "   \"cell_type\": \"code\",\n",
    "   \"execution_count\": null,\n",
    "   \"metadata\": {},\n",
    "   \"outputs\": [],\n",
    "   \"source\": [\n",
    "    \"class Solution:\\n\",\n",
    "    \"    def lengthOfLongestSubstring(self, s: str) -> int:\\n\",\n",
    "    \"        seen = {} \\n\",\n",
    "    \"        maximum_length = 0\\n\",\n",
    "    \"        start = 0 \\n\",\n",
    "    \"        for end in range(len(s)): \\n\",\n",
    "    \"            if s[end] in seen: \\n\",\n",
    "    \"                start = max(start, seen[s[end]] + 1) \\n\",\n",
    "    \"            seen[s[end]] = end \\n\",\n",
    "    \"            maximum_length = max(maximum_length, end-start + 1) \\n\",\n",
    "    \"        return maximum_length \"\n",
    "   ]\n",
    "  }\n",
    " ],\n",
    " \"metadata\": {\n",
    "  \"kernelspec\": {\n",
    "   \"display_name\": \"Python 3\",\n",
    "   \"language\": \"python\",\n",
    "   \"name\": \"python3\"\n",
    "  },\n",
    "  \"language_info\": {\n",
    "   \"codemirror_mode\": {\n",
    "    \"name\": \"ipython\",\n",
    "    \"version\": 3\n",
    "   },\n",
    "   \"file_extension\": \".py\",\n",
    "   \"mimetype\": \"text/x-python\",\n",
    "   \"name\": \"python\",\n",
    "   \"nbconvert_exporter\": \"python\",\n",
    "   \"pygments_lexer\": \"ipython3\",\n",
    "   \"version\": \"3.8.3\"\n",
    "  }\n",
    " },\n",
    " \"nbformat\": 4,\n",
    " \"nbformat_minor\": 4\n",
    "}\n",
    "\n",
    "        for end in range(len(s)): \n",
    "            if s[end] in seen: \n",
    "                start = max(start, seen[s[end]] + 1) \n",
    "            seen[s[end]] = end \n",
    "            maximum_length = max(maximum_length, end-start + 1) \n",
    "        return maximum_length "
   ]
  }
 ],
 "metadata": {
  "kernelspec": {
   "display_name": "Python 3",
   "language": "python",
   "name": "python3"
  },
  "language_info": {
   "codemirror_mode": {
    "name": "ipython",
    "version": 3
   },
   "file_extension": ".py",
   "mimetype": "text/x-python",
   "name": "python",
   "nbconvert_exporter": "python",
   "pygments_lexer": "ipython3",
   "version": "3.8.3"
  }
 },
 "nbformat": 4,
 "nbformat_minor": 4
}
