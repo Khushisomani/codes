{
 "cells": [
  {
   "cell_type": "code",
   "execution_count": 1,
   "metadata": {},
   "outputs": [],
   "source": [
    "def good(x,w,h,n):\n",
    "    return (x//w)*(x//h)>=n"
   ]
  },
  {
   "cell_type": "code",
   "execution_count": null,
   "metadata": {},
   "outputs": [],
   "source": [
    "w=int(input(\"Width of rectangle\"))\n",
    "h=int(input(\"Height of rectangle\"))\n",
    "n=int(input(\"No of rectangles\"))\n",
    "l=0\n",
    "r=1\n",
    "ans=0\n",
    "while (not good(r,w,h,n)):\n",
    "    r*=2\n",
    "ans=0\n",
    "while l<=r:\n",
    "    mid=(l+r)//2 \n",
    "    if (good(mid,w,h,n)):\n",
    "        ans=mid\n",
    "        r=mid-1\n",
    "    else:\n",
    "        l=mid+1\n",
    "print(ans)"
   ]
  }
 ],
 "metadata": {
  "kernelspec": {
   "display_name": "Python 3",
   "language": "python",
   "name": "python3"
  },
  "language_info": {
   "codemirror_mode": {
    "name": "ipython",
    "version": 3
   },
   "file_extension": ".py",
   "mimetype": "text/x-python",
   "name": "python",
   "nbconvert_exporter": "python",
   "pygments_lexer": "ipython3",
   "version": "3.8.3"
  }
 },
 "nbformat": 4,
 "nbformat_minor": 4
}
