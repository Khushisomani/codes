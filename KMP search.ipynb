{
 "cells": [
  {
   "cell_type": "code",
   "execution_count": 31,
   "metadata": {},
   "outputs": [],
   "source": [
    "def KMPSearch(pat, txt): \n",
    "    M = len(pat) \n",
    "    N = len(txt) \n",
    "    lps = [0]*M \n",
    "    j = 0 \n",
    "    computeLPSArray(pat, M, lps) \n",
    "    i = 0 \n",
    "    while i < N: \n",
    "        if txt[i]==pat[j]:\n",
    "            i+=1\n",
    "            j+=1\n",
    "        if j==M:\n",
    "            print (\"Found pattern at index \" + str(i-j)) \n",
    "            j = lps[j-1] \n",
    "        elif i<N and txt[i]!=pat[j]:\n",
    "            if j!=0:\n",
    "                j=lps[j-1]\n",
    "            else:\n",
    "                i+=1\n",
    "            \n",
    "def computeLPSArray(pat, M, lps): \n",
    "    le = 0 # length of the previous longest prefix suffix \n",
    "  \n",
    "    lps[0] # lps[0] is always 0 \n",
    "    i = 1\n",
    "  \n",
    "    # the loop calculates lps[i] for i = 1 to M-1 \n",
    "    while i < M: \n",
    "        if pat[i]==pat[le]:\n",
    "            le+=1\n",
    "            lps[i]=le\n",
    "            i+=1\n",
    "        else:\n",
    "            if le!=0:\n",
    "                le=lps[le-1]\n",
    "            else:\n",
    "                i+=1"
   ]
  },
  {
   "cell_type": "code",
   "execution_count": 32,
   "metadata": {
    "scrolled": true
   },
   "outputs": [
    {
     "name": "stdout",
     "output_type": "stream",
     "text": [
      "Found pattern at index 0\n",
      "Found pattern at index 9\n",
      "Found pattern at index 12\n"
     ]
    }
   ],
   "source": [
    "txt = \"AABAACAADAABAABA\"\n",
    "pat = \"AABA\"\n",
    "KMPSearch(pat, txt) "
   ]
  },
  {
   "cell_type": "code",
   "execution_count": null,
   "metadata": {},
   "outputs": [],
   "source": []
  }
 ],
 "metadata": {
  "kernelspec": {
   "display_name": "Python 3",
   "language": "python",
   "name": "python3"
  },
  "language_info": {
   "codemirror_mode": {
    "name": "ipython",
    "version": 3
   },
   "file_extension": ".py",
   "mimetype": "text/x-python",
   "name": "python",
   "nbconvert_exporter": "python",
   "pygments_lexer": "ipython3",
   "version": "3.8.3"
  }
 },
 "nbformat": 4,
 "nbformat_minor": 4
}
