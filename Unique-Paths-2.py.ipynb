{
 "cells": [
  {
   "cell_type": "code",
   "execution_count": 2,
   "metadata": {},
   "outputs": [
    {
     "name": "stdout",
     "output_type": "stream",
     "text": [
      "[[1, 1, 1], [1, 0, 1], [1, 1, 2]]\n",
      "2\n"
     ]
    }
   ],
   "source": [
    "class Solution:\n",
    "    def uniquePathsWithObstacles(self, obstacleGrid: List[List[int]]) -> int:\n",
    "        n=len(obstacleGrid)\n",
    "        m=len(obstacleGrid[0])\n",
    "        dp=[[0 for x in range(m)] for x in range(n)] \n",
    "        if obstacleGrid[0][0] == 0:\n",
    "            dp[0][0] = 1\n",
    "        for i in range(1,n):\n",
    "            if obstacleGrid[i][0]==0:\n",
    "                dp[i][0]=dp[i-1][0]\n",
    "        for i in range(1,m):\n",
    "            if obstacleGrid[0][i]==0:\n",
    "                dp[0][i]=dp[0][i-1]\n",
    "        for i in range(1,n):\n",
    "            for j in range(1,m):\n",
    "                if obstacleGrid[i][j]==0:\n",
    "                    dp[i][j]=dp[i][j-1]+dp[i-1][j]\n",
    "        return dp[-1][-1]\n",
    "        \n",
    "       "
   ]
  },
  {
   "cell_type": "code",
   "execution_count": null,
   "metadata": {},
   "outputs": [],
   "source": []
  }
 ],
 "metadata": {
  "kernelspec": {
   "display_name": "Python 3",
   "language": "python",
   "name": "python3"
  },
  "language_info": {
   "codemirror_mode": {
    "name": "ipython",
    "version": 3
   },
   "file_extension": ".py",
   "mimetype": "text/x-python",
   "name": "python",
   "nbconvert_exporter": "python",
   "pygments_lexer": "ipython3",
   "version": "3.8.3"
  }
 },
 "nbformat": 4,
 "nbformat_minor": 4
}
