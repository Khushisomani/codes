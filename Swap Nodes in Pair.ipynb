{
 "cells": [
  {
   "cell_type": "code",
   "execution_count": null,
   "metadata": {},
   "outputs": [],
   "source": [
    "# Definition for singly-linked list.\n",
    "# class ListNode:\n",
    "#     def __init__(self, val=0, next=None):\n",
    "#         self.val = val\n",
    "#         self.next = next\n",
    "class Solution:\n",
    "    def swapPairs(self, head: ListNode) -> ListNode:\n",
    "        t=head\n",
    "        if t!=None:\n",
    "            t1=t.next\n",
    "        if t!=None:\n",
    "            while t!=None and t.next!=None and t1.next!=None:\n",
    "                x=t1.val\n",
    "                t1.val=t.val\n",
    "                t.val=x\n",
    "                t=t.next.next\n",
    "                t1=t1.next.next\n",
    "            if t.next!=None:\n",
    "                x=t1.val\n",
    "                t1.val=t.val\n",
    "                t.val=x\n",
    "        return head\n",
    "        "
   ]
  }
 ],
 "metadata": {
  "kernelspec": {
   "display_name": "Python 3",
   "language": "python",
   "name": "python3"
  },
  "language_info": {
   "codemirror_mode": {
    "name": "ipython",
    "version": 3
   },
   "file_extension": ".py",
   "mimetype": "text/x-python",
   "name": "python",
   "nbconvert_exporter": "python",
   "pygments_lexer": "ipython3",
   "version": "3.8.3"
  }
 },
 "nbformat": 4,
 "nbformat_minor": 4
}
