{
 "cells": [
  {
   "cell_type": "code",
   "execution_count": 1,
   "metadata": {},
   "outputs": [],
   "source": [
    "def good(mid,n,pos,speed):\n",
    "    ans_low_limit=-20\n",
    "    ans_max_limit=20\n",
    "    for j in range(n):\n",
    "        lower_limit=(pos[j]-(mid*speed[j]))\n",
    "        upper_limit=(pos[j]+(mid*speed[j]))\n",
    "        ans_low_limit=max(ans_low_limit,lower_limit)\n",
    "        ans_max_limit=min(ans_max_limit,upper_limit)\n",
    "    if ans_low_limit<=ans_max_limit:\n",
    "        return True \n",
    "    return False"
   ]
  },
  {
   "cell_type": "code",
   "execution_count": null,
   "metadata": {},
   "outputs": [],
   "source": [
    "n=int(input())\n",
    "pos=[]\n",
    "speed=[]\n",
    "for i in range(n):\n",
    "    pos.append(int(input()))\n",
    "    speed.append(int(input()))\n",
    "left=0\n",
    "right=20\n",
    "for i in range(100):\n",
    "    mid=left+(right-left)/2\n",
    "    if good(mid,n,pos,speed):\n",
    "        right=mid \n",
    "    else:\n",
    "        left=mid\n",
    "print(left)\n",
    "        "
   ]
  },
  {
   "cell_type": "code",
   "execution_count": null,
   "metadata": {},
   "outputs": [],
   "source": []
  }
 ],
 "metadata": {
  "kernelspec": {
   "display_name": "Python 3",
   "language": "python",
   "name": "python3"
  },
  "language_info": {
   "codemirror_mode": {
    "name": "ipython",
    "version": 3
   },
   "file_extension": ".py",
   "mimetype": "text/x-python",
   "name": "python",
   "nbconvert_exporter": "python",
   "pygments_lexer": "ipython3",
   "version": "3.8.3"
  }
 },
 "nbformat": 4,
 "nbformat_minor": 4
}
